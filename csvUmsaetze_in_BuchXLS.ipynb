{
 "cells": [
  {
   "cell_type": "code",
   "execution_count": 21,
   "id": "13e7e3e0-5846-4f27-8b12-23c1e463690b",
   "metadata": {
    "tags": []
   },
   "outputs": [],
   "source": [
    "import pandas as pd\n",
    "\n",
    "def convert_csv_to_xlsx(input_csv, output_xlsx):\n",
    "    # Lese die CSV-Datei in ein DataFrame\n",
    "    df = pd.read_csv(input_csv, sep=';', decimal=',', quotechar='\"')\n",
    "\n",
    "    # Erstelle ein Excel-Writer-Objekt\n",
    "    with pd.ExcelWriter(output_xlsx) as writer:\n",
    "\n",
    "        # Schreibe das DataFrame in ein Excel-Sheet\n",
    "        df.to_excel(writer, sheet_name='Sheet1')\n",
    "\n",
    "    \n",
    "# CSV-Datei, die konvertiert werden soll\n",
    "input_csv_file = 'GiroUmsatz-2023-05_Ktoauszug_2023_0006.CSV'\n",
    "\n",
    "# Ziel-XLSX-Datei, in die die CSV konvertiert werden soll\n",
    "output_xlsx_file = 'output.xlsx'\n",
    "\n",
    "# Konvertiere die CSV in XLSX\n",
    "convert_csv_to_xlsx(input_csv_file, output_xlsx_file)\n"
   ]
  },
  {
   "cell_type": "code",
   "execution_count": 24,
   "id": "663a8d26-e6e7-43da-b9a7-bf639c260d8b",
   "metadata": {
    "tags": []
   },
   "outputs": [],
   "source": [
    "from openpyxl import load_workbook\n",
    "\n",
    "def copy_data(source_sheet, target_sheet, source_range, target_range):\n",
    "    # Iteriere über den Quellbereich\n",
    "    for source_row_num, target_row_num in zip(range(source_range[0], source_range[1]+1), range(target_range[0], target_range[1]+1)):\n",
    "        for source_col_num, target_col_num in zip(range(source_range[2], source_range[3]+1), range(target_range[2], target_range[3]+1)):\n",
    "            source_cell_value = source_sheet.cell(row=source_row_num, column=source_col_num).value\n",
    "            target_sheet.cell(row=target_row_num, column=target_col_num).value = source_cell_value\n",
    "\n",
    "# Quelle und Ziel Zuordnungen: (SourceSheet, SourceRange) -> (TargetSheet, TargetRange)\n",
    "data_mappings = {\n",
    "    ('Sheet1', (2, 2+100, 3, 3)): ('Kassenbuch', (6, 6+100, 2, 2)),\n",
    "    ('Sheet1', (2, 2+100, 6, 6)): ('Kassenbuch', (6, 6+100, 3, 3))\n",
    "}\n",
    "\n",
    "# Lade das Quell-Workbook\n",
    "source_workbook_name = 'output.xlsx'\n",
    "source_workbook = load_workbook(source_workbook_name)\n",
    "\n",
    "# Lade das Ziel-Workbook\n",
    "target_workbook_name = 'Buchfuhrung_2023-05_.xlsx'\n",
    "target_workbook = load_workbook(target_workbook_name)\n",
    "\n",
    "# Iteriere durch die Zuordnungen und kopiere die Daten\n",
    "for source_info, target_info in data_mappings.items():\n",
    "    source_sheet_name, source_range = source_info\n",
    "    target_sheet_name, target_range = target_info\n",
    "\n",
    "    # Lade das Quell-Sheet\n",
    "    source_sheet = source_workbook[source_sheet_name]\n",
    "\n",
    "    # Lade das Ziel-Sheet\n",
    "    target_sheet = target_workbook[target_sheet_name]\n",
    "\n",
    "    copy_data(source_sheet, target_sheet, source_range, target_range)\n",
    "\n",
    "# Speichere das Ziel-Workbook mit den neuen Daten\n",
    "target_workbook.save(target_workbook_name)\n"
   ]
  },
  {
   "cell_type": "code",
   "execution_count": null,
   "id": "cf174b06-3095-4b02-babf-ca442e5b6b2c",
   "metadata": {},
   "outputs": [],
   "source": []
  }
 ],
 "metadata": {
  "kernelspec": {
   "display_name": "Python 3 (ipykernel)",
   "language": "python",
   "name": "python3"
  },
  "language_info": {
   "codemirror_mode": {
    "name": "ipython",
    "version": 3
   },
   "file_extension": ".py",
   "mimetype": "text/x-python",
   "name": "python",
   "nbconvert_exporter": "python",
   "pygments_lexer": "ipython3",
   "version": "3.11.5"
  }
 },
 "nbformat": 4,
 "nbformat_minor": 5
}
